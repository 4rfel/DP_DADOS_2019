{
 "cells": [
  {
   "cell_type": "markdown",
   "metadata": {},
   "source": [
    "___\n",
    "# Ciência dos Dados - PROJETO 1"
   ]
  },
  {
   "cell_type": "markdown",
   "metadata": {},
   "source": [
    "### Rafael dos Santos e José Bechara\n",
    "___"
   ]
  },
  {
   "cell_type": "markdown",
   "metadata": {},
   "source": [
    "## TÍTULO DO SEU PROJETO"
   ]
  },
  {
   "cell_type": "markdown",
   "metadata": {},
   "source": [
    "___\n",
    "## Introdução\n",
    "\n",
    "Descreva aqui o que pretende analisar!\n",
    "\n",
    "Capriche no português!! \n",
    "Se quiser pode utilizar pesquisas semelhantes publicadas em sites confiáveis!!\n"
   ]
  },
  {
   "cell_type": "markdown",
   "metadata": {},
   "source": [
    "___\n",
    "## Filtros da base de dados"
   ]
  },
  {
   "cell_type": "code",
   "execution_count": 2,
   "metadata": {},
   "outputs": [],
   "source": [
    "%matplotlib inline\n",
    "import pandas as pd\n",
    "import matplotlib.pyplot as plt\n",
    "import numpy as np\n",
    "import os"
   ]
  },
  {
   "cell_type": "code",
   "execution_count": 3,
   "metadata": {},
   "outputs": [
    {
     "name": "stdout",
     "output_type": "stream",
     "text": [
      "Esperamos trabalhar no diretório\n",
      "C:\\Users\\rafae\\Desktop\\DP\\Dados\\Projeto1\n"
     ]
    }
   ],
   "source": [
    "print('Esperamos trabalhar no diretório')\n",
    "print(os.getcwd())"
   ]
  },
  {
   "cell_type": "code",
   "execution_count": 4,
   "metadata": {},
   "outputs": [],
   "source": [
    "#Se usar o arquivo descompactado\n",
    "PES2015 = pd.read_csv('PES2015.csv',sep=',')\n",
    "\n",
    "PES2011 = pd.read_csv('PES2011.csv',sep=',')\n",
    "\n",
    "#Se usar o arquivo compactado como está no dropbox púbico\n",
    "#pd.read_csv('PES2015csv.zip', compression='zip', header=0, sep=',', quotechar='\"')"
   ]
  },
  {
   "cell_type": "code",
   "execution_count": 5,
   "metadata": {},
   "outputs": [],
   "source": [
    "#2015:\n",
    "old_columns = ['UF','V0302','V8005',\"V0601\",'V0602','V6002','V6020',\"V0605\",'V6007','V0609','V0610','V0611','V061111','V061112','V061113','V061114','V9891','V4801','V4802','V4803']\n",
    "new_names = ['UF','Sexo','Idade','sabe ler e escrever','frequenta escola ou creche','escola publica ou privada', 'Area da rede publica de ensino', 'serie que frequenta','curso mais elevado que frequentou anteriormente','Concluiu, com aprovação, pelo menos a 1ª série deste curso que frequentou anteriormente','Última série concluída com aprovação, neste curso que frequentou anteriormente','Concluiu este curso que frequentou anteriormente','Nos últimos 12 meses, utilizou a Internet em algum local','O acesso à Internet foi feito através de microcomputador','O acesso à Internet foi feito através de telefone celular','O acesso à Internet foi feito através de um tablet','Faixa de idade em que começou a trabalhar','Nível de ensino, duração do ensino fundamental e série que frequentavam','Nível de ensino e grupos de séries do ensino fundamental que frequentavam',\"Anos de estudo\"]\n",
    "novo_df = PES2015[old_columns]"
   ]
  },
  {
   "cell_type": "code",
   "execution_count": 6,
   "metadata": {
    "scrolled": true
   },
   "outputs": [
    {
     "name": "stderr",
     "output_type": "stream",
     "text": [
      "C:\\Users\\rafae\\Anaconda3\\lib\\site-packages\\pandas\\core\\indexing.py:537: SettingWithCopyWarning: \n",
      "A value is trying to be set on a copy of a slice from a DataFrame.\n",
      "Try using .loc[row_indexer,col_indexer] = value instead\n",
      "\n",
      "See the caveats in the documentation: http://pandas.pydata.org/pandas-docs/stable/indexing.html#indexing-view-versus-copy\n",
      "  self.obj[item] = s\n",
      "C:\\Users\\rafae\\Anaconda3\\lib\\site-packages\\pandas\\core\\indexing.py:357: SettingWithCopyWarning: \n",
      "A value is trying to be set on a copy of a slice from a DataFrame.\n",
      "Try using .loc[row_indexer,col_indexer] = value instead\n",
      "\n",
      "See the caveats in the documentation: http://pandas.pydata.org/pandas-docs/stable/indexing.html#indexing-view-versus-copy\n",
      "  self.obj[key] = _infer_fill_value(value)\n"
     ]
    }
   ],
   "source": [
    "#2015:\n",
    "try:\n",
    "    novo_df.columns = new_names\n",
    "    novo_df.loc[(novo_df.UF == 11), \"UF\"] = \"Rondonia\"\n",
    "    novo_df.loc[(novo_df.UF == 12), \"UF\"] = \"Acre\"\n",
    "    novo_df.loc[(novo_df.UF == 13), \"UF\"] = \"Amazonas\"\n",
    "    novo_df.loc[(novo_df.UF == 14), \"UF\"] = \"Roraima\"\n",
    "    novo_df.loc[(novo_df.UF == 15), \"UF\"] = \"Pará\"\n",
    "    novo_df.loc[(novo_df.UF == 16), \"UF\"] = \"Amapá\"\n",
    "    novo_df.loc[(novo_df.UF == 17), \"UF\"] = \"Tocantins\"\n",
    "    novo_df.loc[(novo_df.UF == 21), \"UF\"] = \"Maranhão\"\n",
    "    novo_df.loc[(novo_df.UF == 22), \"UF\"] = \"Piauí\"\n",
    "    novo_df.loc[(novo_df.UF == 23), \"UF\"] = \"Ceará\"\n",
    "    novo_df.loc[(novo_df.UF == 24), \"UF\"] = \"Rio Grande do Norte\"\n",
    "    novo_df.loc[(novo_df.UF == 25), \"UF\"] = \"Paraíba\"\n",
    "    novo_df.loc[(novo_df.UF == 26), \"UF\"] = \"Pernambuco\"\n",
    "    novo_df.loc[(novo_df.UF == 27), \"UF\"] = \"Alagoas\"\n",
    "    novo_df.loc[(novo_df.UF == 28), \"UF\"] = \"Sergipe\"\n",
    "    novo_df.loc[(novo_df.UF == 29), \"UF\"] = \"Bahia\"\n",
    "    novo_df.loc[(novo_df.UF == 31), \"UF\"] = \"Minas Gerais\"\n",
    "    novo_df.loc[(novo_df.UF == 32), \"UF\"] = \"Espírito Santo\"\n",
    "    novo_df.loc[(novo_df.UF == 33), \"UF\"] = \"Rio de Janeiro\"\n",
    "    novo_df.loc[(novo_df.UF == 35), \"UF\"] = \"São Paulo\"\n",
    "    novo_df.loc[(novo_df.UF == 41), \"UF\"] = \"Paraná\"\n",
    "    novo_df.loc[(novo_df.UF == 42), \"UF\"] = \"Santa Catarina\"\n",
    "    novo_df.loc[(novo_df.UF == 43), \"UF\"] = \"Rio Grande do Sul\"\n",
    "    novo_df.loc[(novo_df.UF == 50), \"UF\"] = \"Mato Grosso do Sul\"\n",
    "    novo_df.loc[(novo_df.UF == 51), \"UF\"] = \"Mato Grosso\"\n",
    "    novo_df.loc[(novo_df.UF == 52), \"UF\"] = \"Goiás\"\n",
    "    novo_df.loc[(novo_df.UF == 53), \"UF\"] = \"Distrito Federal\"\n",
    "    \n",
    "    novo_df.loc[(novo_df.Sexo == 2), 'Sexo'] = \"Masculino\"\n",
    "    novo_df.loc[(novo_df.Sexo == 4), 'Sexo'] = \"Feminino\"\n",
    "    \n",
    "    novo_df.loc[(novo_df['sabe ler e escrever'] == 1), 'sabe ler e escrever'] = \"Sim\"\n",
    "    novo_df.loc[(novo_df['sabe ler e escrever'] == 3), 'sabe ler e escrever'] = \"Não\"\n",
    "\n",
    "    novo_df.loc[(novo_df['frequenta escola ou creche'] == 2), 'frequenta escola ou creche'] = \"Sim\"\n",
    "    novo_df.loc[(novo_df['frequenta escola ou creche'] == 4), 'frequenta escola ou creche'] = \"Não\"\n",
    "\n",
    "    novo_df.loc[(novo_df['escola publica ou privada'] == 4), 'escola publica ou privada'] = \"Privada\"\n",
    "    novo_df.loc[(novo_df['escola publica ou privada'] == 2), 'escola publica ou privada'] = \"Publica\"\n",
    "    novo_df.loc[(novo_df['escola publica ou privada'].isnull() == True), 'escola publica ou privada'] = \"Não Aplicavel\"\n",
    "\n",
    "\n",
    "    novo_df.loc[(novo_df['Area da rede publica de ensino'] == 2), 'Area da rede publica de ensino'] = \"Municipal\"\n",
    "    novo_df.loc[(novo_df['Area da rede publica de ensino'] == 4), 'Area da rede publica de ensino'] = \"Estadual\"\n",
    "    novo_df.loc[(novo_df['Area da rede publica de ensino'] == 6), 'Area da rede publica de ensino'] = \"Federal\"\n",
    "    novo_df.loc[(novo_df['Area da rede publica de ensino'].isnull() == True), 'Area da rede publica de ensino'] = \"Não Aplicavel\"\n",
    "\n",
    "    novo_df.loc[(novo_df['serie que frequenta'] == 0), 'serie que frequenta'] = 9\n",
    "    \n",
    "    novo_df.loc[(novo_df['curso mais elevado que frequentou anteriormente'] == 1), 'curso mais elevado que frequentou anteriormente'] = \"Elementar (primário)\"\n",
    "    novo_df.loc[(novo_df['curso mais elevado que frequentou anteriormente'] == 2), 'curso mais elevado que frequentou anteriormente'] = \"Médio 1º ciclo (ginasial, etc.)\"\n",
    "    novo_df.loc[(novo_df['curso mais elevado que frequentou anteriormente'] == 3), 'curso mais elevado que frequentou anteriormente'] = \"Médio 2º ciclo (científico, clássico, etc.)\"\n",
    "    novo_df.loc[(novo_df['curso mais elevado que frequentou anteriormente'] == 4), 'curso mais elevado que frequentou anteriormente'] = \"Regular do ensino fundamental ou do 1º grau\"\n",
    "    novo_df.loc[(novo_df['curso mais elevado que frequentou anteriormente'] == 5), 'curso mais elevado que frequentou anteriormente'] = \"Regular do ensino médio ou do 2º grau\"\n",
    "    novo_df.loc[(novo_df['curso mais elevado que frequentou anteriormente'] == 6), 'curso mais elevado que frequentou anteriormente'] = \"Educação de jovens e adultos ou supletivo do ensino fundamental ou do 1º grau\"\n",
    "    novo_df.loc[(novo_df['curso mais elevado que frequentou anteriormente'] == 7), 'curso mais elevado que frequentou anteriormente'] = \"Educação de jovens e adultos ou supletivo de ensino médio ou do 2º grau\"\n",
    "    novo_df.loc[(novo_df['curso mais elevado que frequentou anteriormente'] == 8), 'curso mais elevado que frequentou anteriormente'] = \"Superior de graduação\"\n",
    "    novo_df.loc[(novo_df['curso mais elevado que frequentou anteriormente'] == 9), 'curso mais elevado que frequentou anteriormente'] = \"Mestrado ou doutorado\"\n",
    "    novo_df.loc[(novo_df['curso mais elevado que frequentou anteriormente'] == 10), 'curso mais elevado que frequentou anteriormente'] = \"Alfabetização de jovens e adultos\"\n",
    "    novo_df.loc[(novo_df['curso mais elevado que frequentou anteriormente'] == 11), 'curso mais elevado que frequentou anteriormente'] = \"Creche\"\n",
    "    novo_df.loc[(novo_df['curso mais elevado que frequentou anteriormente'] == 12), 'curso mais elevado que frequentou anteriormente'] = \"Classe de alfabetização - CA \"\n",
    "    novo_df.loc[(novo_df['curso mais elevado que frequentou anteriormente'] == 13), 'curso mais elevado que frequentou anteriormente'] = \"Maternal, jardim de infância etc.\"\n",
    "    novo_df.loc[(novo_df['curso mais elevado que frequentou anteriormente'].isnull() == True), 'curso mais elevado que frequentou anteriormente'] = \"Não aplicável\"\n",
    "\n",
    "    novo_df.loc[(novo_df['Concluiu, com aprovação, pelo menos a 1ª série deste curso que frequentou anteriormente'] == 1), 'Concluiu, com aprovação, pelo menos a 1ª série deste curso que frequentou anteriormente'] = \"Sim\"\n",
    "    novo_df.loc[(novo_df['Concluiu, com aprovação, pelo menos a 1ª série deste curso que frequentou anteriormente'] == 3), 'Concluiu, com aprovação, pelo menos a 1ª série deste curso que frequentou anteriormente'] = \"Não\"\n",
    "    novo_df.loc[(novo_df['Concluiu, com aprovação, pelo menos a 1ª série deste curso que frequentou anteriormente'].isnull() == True), 'Concluiu, com aprovação, pelo menos a 1ª série deste curso que frequentou anteriormente'] = \"Não aplicável\"\n",
    "\n",
    "    novo_df.loc[(novo_df['Última série concluída com aprovação, neste curso que frequentou anteriormente'] == 0), \"Última série concluída com aprovação, neste curso que frequentou anteriormente\"] = 9\n",
    "\n",
    "    novo_df.loc[(novo_df['Concluiu este curso que frequentou anteriormente'] == 1), 'Concluiu este curso que frequentou anteriormente'] = \"Sim\"\n",
    "    novo_df.loc[(novo_df['Concluiu este curso que frequentou anteriormente'] == 3), 'Concluiu este curso que frequentou anteriormente'] = \"Não\"\n",
    "    novo_df.loc[(novo_df['Concluiu este curso que frequentou anteriormente'].isnull() == True), 'Concluiu este curso que frequentou anteriormente'] = \"Não Aplicavel\"\n",
    "\n",
    "    novo_df.loc[(novo_df['Nos últimos 12 meses, utilizou a Internet em algum local'] == 1), 'Nos últimos 12 meses, utilizou a Internet em algum local'] = \"Sim\"\n",
    "    novo_df.loc[(novo_df['Nos últimos 12 meses, utilizou a Internet em algum local'] == 3), 'Nos últimos 12 meses, utilizou a Internet em algum local'] = \"Não\"\n",
    "    novo_df.loc[(novo_df['Nos últimos 12 meses, utilizou a Internet em algum local'].isnull() == True), 'Nos últimos 12 meses, utilizou a Internet em algum local'] = \"Não Aplicavel\"\n",
    "\n",
    "    novo_df.loc[(novo_df['O acesso à Internet foi feito através de microcomputador'] == 1), 'O acesso à Internet foi feito através de microcomputador'] = \"Sim\"\n",
    "    novo_df.loc[(novo_df['O acesso à Internet foi feito através de microcomputador'] == 2), 'O acesso à Internet foi feito através de microcomputador'] = \"Não\"\n",
    "    novo_df.loc[(novo_df['O acesso à Internet foi feito através de microcomputador'].isnull() == True), 'O acesso à Internet foi feito através de microcomputador'] = \"Não Aplicavel\"\n",
    "\n",
    "    novo_df.loc[(novo_df['O acesso à Internet foi feito através de telefone celular'] == 1), 'O acesso à Internet foi feito através de telefone celular'] = \"Sim\"\n",
    "    novo_df.loc[(novo_df['O acesso à Internet foi feito através de telefone celular'] == 2), 'O acesso à Internet foi feito através de telefone celular'] = \"Não\"\n",
    "    novo_df.loc[(novo_df['O acesso à Internet foi feito através de telefone celular'].isnull() == True), 'O acesso à Internet foi feito através de telefone celular'] = \"Não Aplicavel\"\n",
    "\n",
    "    novo_df.loc[(novo_df['O acesso à Internet foi feito através de um tablet'] == 1), 'O acesso à Internet foi feito através de um tablet'] = \"Sim\"\n",
    "    novo_df.loc[(novo_df['O acesso à Internet foi feito através de um tablet'] == 2), 'O acesso à Internet foi feito através de um tablet'] = \"Não\"\n",
    "    novo_df.loc[(novo_df['O acesso à Internet foi feito através de um tablet'].isnull() == True), 'O acesso à Internet foi feito através de um tablet'] = \"Não Aplicavel\"\n",
    "\n",
    "    novo_df.loc[(novo_df['Faixa de idade em que começou a trabalhar'] == 1), 'Faixa de idade em que começou a trabalhar'] = \"Ate 9 anos\"\n",
    "    novo_df.loc[(novo_df['Faixa de idade em que começou a trabalhar'] == 2), 'Faixa de idade em que começou a trabalhar'] = \"10 a 14 anos\"\n",
    "    novo_df.loc[(novo_df['Faixa de idade em que começou a trabalhar'] == 3), 'Faixa de idade em que começou a trabalhar'] = \"15 a 17 anos\"\n",
    "    novo_df.loc[(novo_df['Faixa de idade em que começou a trabalhar'] == 4), 'Faixa de idade em que começou a trabalhar'] = \"18 a 19 anos\"\n",
    "    novo_df.loc[(novo_df['Faixa de idade em que começou a trabalhar'] == 5), 'Faixa de idade em que começou a trabalhar'] = \"20 a 24 anos\"\n",
    "    novo_df.loc[(novo_df['Faixa de idade em que começou a trabalhar'] == 6), 'Faixa de idade em que começou a trabalhar'] = \"25 a 29 anos\"\n",
    "    novo_df.loc[(novo_df['Faixa de idade em que começou a trabalhar'] == 7), 'Faixa de idade em que começou a trabalhar'] = \"30 anos ou mais\"\n",
    "    novo_df.loc[(novo_df['Faixa de idade em que começou a trabalhar'].isnull() == True), 'Fai.isnull() == Truexa de idade em que começou a trabalhar'] = \"Não Aplicavel\"\n",
    "\n",
    "    novo_df.loc[(novo_df['Nível de ensino e grupos de séries do ensino fundamental que frequentavam'] == 1), 'Nível de ensino e grupos de séries do ensino fundamental que frequentavam'] = \"Maternal, jardim de infância etc.\"\n",
    "    novo_df.loc[(novo_df['Nível de ensino e grupos de séries do ensino fundamental que frequentavam'] == 2), 'Nível de ensino e grupos de séries do ensino fundamental que frequentavam'] = \"Classe de alfabetização\"\n",
    "    novo_df.loc[(novo_df['Nível de ensino e grupos de séries do ensino fundamental que frequentavam'] == 3), 'Nível de ensino e grupos de séries do ensino fundamental que frequentavam'] = \"Alfabetização de adultos\"\n",
    "    novo_df.loc[(novo_df['Nível de ensino e grupos de séries do ensino fundamental que frequentavam'] == 4), 'Nível de ensino e grupos de séries do ensino fundamental que frequentavam'] = \"1ª série do ensino fundamental regular em 8 anos\"\n",
    "    novo_df.loc[(novo_df['Nível de ensino e grupos de séries do ensino fundamental que frequentavam'] == 5), 'Nível de ensino e grupos de séries do ensino fundamental que frequentavam'] = \"2ª série do ensino fundamental regular em 8 anos\"\n",
    "    novo_df.loc[(novo_df['Nível de ensino e grupos de séries do ensino fundamental que frequentavam'] == 6), 'Nível de ensino e grupos de séries do ensino fundamental que frequentavam'] = \"3ª série do ensino fundamental regular em 8 anos\"\n",
    "    novo_df.loc[(novo_df['Nível de ensino e grupos de séries do ensino fundamental que frequentavam'] == 7), 'Nível de ensino e grupos de séries do ensino fundamental que frequentavam'] = \"4ª série do ensino fundamental regular em 8 anos\"\n",
    "    novo_df.loc[(novo_df['Nível de ensino e grupos de séries do ensino fundamental que frequentavam'] == 8), 'Nível de ensino e grupos de séries do ensino fundamental que frequentavam'] = \"5ª série do ensino fundamental regular em 8 anos\"\n",
    "    novo_df.loc[(novo_df['Nível de ensino e grupos de séries do ensino fundamental que frequentavam'] == 9), 'Nível de ensino e grupos de séries do ensino fundamental que frequentavam'] = \"6ª série do ensino fundamental regular em 8 anos\"\n",
    "    novo_df.loc[(novo_df['Nível de ensino e grupos de séries do ensino fundamental que frequentavam'] == 10), 'Nível de ensino e grupos de séries do ensino fundamental que frequentavam'] = \"7ª série do ensino fundamental regular em 8 anos\"\n",
    "    novo_df.loc[(novo_df['Nível de ensino e grupos de séries do ensino fundamental que frequentavam'] == 11), 'Nível de ensino e grupos de séries do ensino fundamental que frequentavam'] = \"8ª série do ensino fundamental regular em 8 anos\"\n",
    "    novo_df.loc[(novo_df['Nível de ensino e grupos de séries do ensino fundamental que frequentavam'] == 12), 'Nível de ensino e grupos de séries do ensino fundamental que frequentavam'] = \"1ª série do ensino fundamental regular em 9 anos\"\n",
    "    novo_df.loc[(novo_df['Nível de ensino e grupos de séries do ensino fundamental que frequentavam'] == 13), 'Nível de ensino e grupos de séries do ensino fundamental que frequentavam'] = \"2ª série do ensino fundamental regular em 9 anos\"\n",
    "    novo_df.loc[(novo_df['Nível de ensino e grupos de séries do ensino fundamental que frequentavam'] == 14), 'Nível de ensino e grupos de séries do ensino fundamental que frequentavam'] = \"3ª série do ensino fundamental regular em 9 anos\"\n",
    "    novo_df.loc[(novo_df['Nível de ensino e grupos de séries do ensino fundamental que frequentavam'] == 15), 'Nível de ensino e grupos de séries do ensino fundamental que frequentavam'] = \"4ª série do ensino fundamental regular em 9 anos\"\n",
    "    novo_df.loc[(novo_df['Nível de ensino e grupos de séries do ensino fundamental que frequentavam'] == 16), 'Nível de ensino e grupos de séries do ensino fundamental que frequentavam'] = \"5ª série do ensino fundamental regular em 9 anos\"\n",
    "    novo_df.loc[(novo_df['Nível de ensino e grupos de séries do ensino fundamental que frequentavam'] == 17), 'Nível de ensino e grupos de séries do ensino fundamental que frequentavam'] = \"6ª série do ensino fundamental regular em 9 anos\"\n",
    "    novo_df.loc[(novo_df['Nível de ensino e grupos de séries do ensino fundamental que frequentavam'] == 18), 'Nível de ensino e grupos de séries do ensino fundamental que frequentavam'] = \"7ª série do ensino fundamental regular em 9 anos\"\n",
    "    novo_df.loc[(novo_df['Nível de ensino e grupos de séries do ensino fundamental que frequentavam'] == 19), 'Nível de ensino e grupos de séries do ensino fundamental que frequentavam'] = \"8ª série do ensino fundamental regular em 9 anos\"\n",
    "    novo_df.loc[(novo_df['Nível de ensino e grupos de séries do ensino fundamental que frequentavam'] == 20), 'Nível de ensino e grupos de séries do ensino fundamental que frequentavam'] = \"9ª série do ensino fundamental regular em 9 anos\"\n",
    "    novo_df.loc[(novo_df['Nível de ensino e grupos de séries do ensino fundamental que frequentavam'] == 21), 'Nível de ensino e grupos de séries do ensino fundamental que frequentavam'] = \"Educação de jovens e adultos do ensino fundamental (seriado e não seriado)\"\n",
    "    novo_df.loc[(novo_df['Nível de ensino e grupos de séries do ensino fundamental que frequentavam'] == 22), 'Nível de ensino e grupos de séries do ensino fundamental que frequentavam'] = \"Regular do ensino médio \"\n",
    "    novo_df.loc[(novo_df['Nível de ensino e grupos de séries do ensino fundamental que frequentavam'] == 23), 'Nível de ensino e grupos de séries do ensino fundamental que frequentavam'] = \"Educação de jovens e adultos do ensino médio\"\n",
    "    novo_df.loc[(novo_df['Nível de ensino e grupos de séries do ensino fundamental que frequentavam'] == 24), 'Nível de ensino e grupos de séries do ensino fundamental que frequentavam'] = \"Pré-vestibular\"\n",
    "    novo_df.loc[(novo_df['Nível de ensino e grupos de séries do ensino fundamental que frequentavam'] == 25), 'Nível de ensino e grupos de séries do ensino fundamental que frequentavam'] = \"Superior, inclusive mestrado e doutorado\"\n",
    "    novo_df.loc[(novo_df['Nível de ensino e grupos de séries do ensino fundamental que frequentavam'].isnull() == True), 'Nível de ensino e grupos de séries do ensino fundamental que frequentavam'] = \"Não Aplicavel\"\n",
    "\n",
    "    novo_df.loc[(novo_df['Anos de estudo'] == 1), 'Anos de estudo'] = \"Sem instrução e menos de 1 ano\"\n",
    "    novo_df.loc[(novo_df['Anos de estudo'] == 2), 'Anos de estudo'] = \"1ano\"\n",
    "    novo_df.loc[(novo_df['Anos de estudo'] == 3), 'Anos de estudo'] = \"2anos\"\n",
    "    novo_df.loc[(novo_df['Anos de estudo'] == 4), 'Anos de estudo'] = \"3anos\"\n",
    "    novo_df.loc[(novo_df['Anos de estudo'] == 5), 'Anos de estudo'] = \"4anos\"\n",
    "    novo_df.loc[(novo_df['Anos de estudo'] == 6), 'Anos de estudo'] = \"5anos\"\n",
    "    novo_df.loc[(novo_df['Anos de estudo'] == 7), 'Anos de estudo'] = \"6anos\"\n",
    "    novo_df.loc[(novo_df['Anos de estudo'] == 8), 'Anos de estudo'] = \"7anos\"\n",
    "    novo_df.loc[(novo_df['Anos de estudo'] == 9), 'Anos de estudo'] = \"8anos\"\n",
    "    novo_df.loc[(novo_df['Anos de estudo'] == 10), 'Anos de estudo'] = \"9anos\"\n",
    "    novo_df.loc[(novo_df['Anos de estudo'] == 11), 'Anos de estudo'] = \"10 anos\"\n",
    "    novo_df.loc[(novo_df['Anos de estudo'] == 12), 'Anos de estudo'] = \"11 anos\"\n",
    "    novo_df.loc[(novo_df['Anos de estudo'] == 13), 'Anos de estudo'] = \"12 anos\"\n",
    "    novo_df.loc[(novo_df['Anos de estudo'] == 14), 'Anos de estudo'] = \"13 anos\"\n",
    "    novo_df.loc[(novo_df['Anos de estudo'] == 15), 'Anos de estudo'] = \"14 anos\"\n",
    "    novo_df.loc[(novo_df['Anos de estudo'] == 16), 'Anos de estudo'] = \"15 anos\"\n",
    "    novo_df.loc[(novo_df['Anos de estudo'] == 17), 'Anos de estudo'] = \"Não Determinado\"\n",
    "    novo_df.loc[(novo_df['Anos de estudo'].isnull() == True), 'Anos de estudo'] = \"Não Aplicavel\"\n",
    "except:''"
   ]
  },
  {
   "cell_type": "code",
   "execution_count": 15,
   "metadata": {},
   "outputs": [],
   "source": [
    "#2011:\n",
    "old_columns1 = ['UF','V0302','V8005',\"V0601\",'V0602','V6002','V6020',\"V0605\",'V6007','V0609','V0610','V0611','V9891','V4801','V4802','V4803']\n",
    "new_names1 = ['UF','Sexo','Idade','sabe ler e escrever','frequenta escola ou creche','escola publica ou privada', 'Area da rede publica de ensino', 'serie que frequenta','curso mais elevado que frequentou anteriormente','Concluiu, com aprovação, pelo menos a 1ª série deste curso que frequentou anteriormente','Última série concluída com aprovação, neste curso que frequentou anteriormente','Concluiu este curso que frequentou anteriormente','Nos últimos 12 meses, utilizou a Internet em algum local','Faixa de idade em que começou a trabalhar','Nível de ensino, duração do ensino fundamental e série que frequentavam','Nível de ensino e grupos de séries do ensino fundamental que frequentavam',\"Anos de estudo\"]\n",
    "novo_df1 = PES2011[old_columns1]"
   ]
  },
  {
   "cell_type": "code",
   "execution_count": 16,
   "metadata": {},
   "outputs": [
    {
     "data": {
      "text/plain": [
       "18"
      ]
     },
     "execution_count": 16,
     "metadata": {},
     "output_type": "execute_result"
    }
   ],
   "source": [
    "len(new_names1)"
   ]
  },
  {
   "cell_type": "code",
   "execution_count": 17,
   "metadata": {},
   "outputs": [
    {
     "data": {
      "text/plain": [
       "16"
      ]
     },
     "execution_count": 17,
     "metadata": {},
     "output_type": "execute_result"
    }
   ],
   "source": [
    "len(old_columns1)"
   ]
  },
  {
   "cell_type": "code",
   "execution_count": 10,
   "metadata": {},
   "outputs": [],
   "source": [
    "#2011:\n",
    "try:\n",
    "    novo_df1.columns = new_names1\n",
    "#     novo_df1.loc[(novo_df1.UF == 11), \"UF\"] = \"Rondonia\"\n",
    "#     novo_df1.loc[(novo_df1.UF == 12), \"UF\"] = \"Acre\"\n",
    "#     novo_df1.loc[(novo_df1.UF == 13), \"UF\"] = \"Amazonas\"\n",
    "#     novo_df1.loc[(novo_df1.UF == 14), \"UF\"] = \"Roraima\"\n",
    "#     novo_df1.loc[(novo_df1.UF == 15), \"UF\"] = \"Pará\"\n",
    "#     novo_df1.loc[(novo_df1.UF == 16), \"UF\"] = \"Amapá\"\n",
    "#     novo_df1.loc[(novo_df1.UF == 17), \"UF\"] = \"Tocantins\"\n",
    "#     novo_df1.loc[(novo_df1.UF == 21), \"UF\"] = \"Maranhão\"\n",
    "#     novo_df1.loc[(novo_df1.UF == 22), \"UF\"] = \"Piauí\"\n",
    "#     novo_df1.loc[(novo_df1.UF == 23), \"UF\"] = \"Ceará\"\n",
    "#     novo_df1.loc[(novo_df1.UF == 24), \"UF\"] = \"Rio Grande do Norte\"\n",
    "#     novo_df1.loc[(novo_df1.UF == 25), \"UF\"] = \"Paraíba\"\n",
    "#     novo_df1.loc[(novo_df1.UF == 26), \"UF\"] = \"Pernambuco\"\n",
    "#     novo_df1.loc[(novo_df1.UF == 27), \"UF\"] = \"Alagoas\"\n",
    "#     novo_df1.loc[(novo_df1.UF == 28), \"UF\"] = \"Sergipe\"\n",
    "#     novo_df1.loc[(novo_df1.UF == 29), \"UF\"] = \"Bahia\"\n",
    "#     novo_df1.loc[(novo_df1.UF == 31), \"UF\"] = \"Minas Gerais\"\n",
    "#     novo_df1.loc[(novo_df1.UF == 32), \"UF\"] = \"Espírito Santo\"\n",
    "#     novo_df1.loc[(novo_df1.UF == 33), \"UF\"] = \"Rio de Janeiro\"\n",
    "#     novo_df1.loc[(novo_df1.UF == 35), \"UF\"] = \"São Paulo\"\n",
    "#     novo_df1.loc[(novo_df1.UF == 41), \"UF\"] = \"Paraná\"\n",
    "#     novo_df1.loc[(novo_df1.UF == 42), \"UF\"] = \"Santa Catarina\"\n",
    "#     novo_df1.loc[(novo_df1.UF == 43), \"UF\"] = \"Rio Grande do Sul\"\n",
    "#     novo_df1.loc[(novo_df1.UF == 50), \"UF\"] = \"Mato Grosso do Sul\"\n",
    "#     novo_df1.loc[(novo_df1.UF == 51), \"UF\"] = \"Mato Grosso\"\n",
    "#     novo_df1.loc[(novo_df1.UF == 52), \"UF\"] = \"Goiás\"\n",
    "#     novo_df1.loc[(novo_df1.UF == 53), \"UF\"] = \"Distrito Federal\"\n",
    "    \n",
    "#     novo_df1.loc[(novo_df1.Sexo == 2), 'Sexo'] = \"Masculino\"\n",
    "#     novo_df1.loc[(novo_df1.Sexo == 4), 'Sexo'] = \"Feminino\"\n",
    "    \n",
    "#     novo_df1.loc[(novo_df1['sabe ler e escrever'] == 1), 'sabe ler e escrever'] = \"Sim\"\n",
    "#     novo_df1.loc[(novo_df1['sabe ler e escrever'] == 3), 'sabe ler e escrever'] = \"Não\"\n",
    "\n",
    "#     novo_df1.loc[(novo_df1['frequenta escola ou creche'] == 2), 'frequenta escola ou creche'] = \"Sim\"\n",
    "#     novo_df1.loc[(novo_df1['frequenta escola ou creche'] == 4), 'frequenta escola ou creche'] = \"Não\"\n",
    "\n",
    "#     novo_df1.loc[(novo_df1['escola publica ou privada'] == 4), 'escola publica ou privada'] = \"Privada\"\n",
    "#     novo_df1.loc[(novo_df1['escola publica ou privada'] == 2), 'escola publica ou privada'] = \"Publica\"\n",
    "#     novo_df1.loc[(novo_df1['escola publica ou privada'].isnull() == True), 'escola publica ou privada'] = \"Não Aplicavel\"\n",
    "\n",
    "\n",
    "#     novo_df1.loc[(novo_df1['Area da rede publica de ensino'] == 2), 'Area da rede publica de ensino'] = \"Municipal\"\n",
    "#     novo_df1.loc[(novo_df1['Area da rede publica de ensino'] == 4), 'Area da rede publica de ensino'] = \"Estadual\"\n",
    "#     novo_df1.loc[(novo_df1['Area da rede publica de ensino'] == 6), 'Area da rede publica de ensino'] = \"Federal\"\n",
    "#     novo_df1.loc[(novo_df1['Area da rede publica de ensino'].isnull() == True), 'Area da rede publica de ensino'] = \"Não Aplicavel\"\n",
    "\n",
    "#     novo_df1.loc[(novo_df1['serie que frequenta'] == 0), 'serie que frequenta'] = 9\n",
    "    \n",
    "#     novo_df1.loc[(novo_df1['curso mais elevado que frequentou anteriormente'] == 1), 'curso mais elevado que frequentou anteriormente'] = \"Elementar (primário)\"\n",
    "#     novo_df1.loc[(novo_df1['curso mais elevado que frequentou anteriormente'] == 2), 'curso mais elevado que frequentou anteriormente'] = \"Médio 1º ciclo (ginasial, etc.)\"\n",
    "#     novo_df1.loc[(novo_df1['curso mais elevado que frequentou anteriormente'] == 3), 'curso mais elevado que frequentou anteriormente'] = \"Médio 2º ciclo (científico, clássico, etc.)\"\n",
    "#     novo_df1.loc[(novo_df1['curso mais elevado que frequentou anteriormente'] == 4), 'curso mais elevado que frequentou anteriormente'] = \"Regular do ensino fundamental ou do 1º grau\"\n",
    "#     novo_df1.loc[(novo_df1['curso mais elevado que frequentou anteriormente'] == 5), 'curso mais elevado que frequentou anteriormente'] = \"Regular do ensino médio ou do 2º grau\"\n",
    "#     novo_df1.loc[(novo_df1['curso mais elevado que frequentou anteriormente'] == 6), 'curso mais elevado que frequentou anteriormente'] = \"Educação de jovens e adultos ou supletivo do ensino fundamental ou do 1º grau\"\n",
    "#     novo_df1.loc[(novo_df1['curso mais elevado que frequentou anteriormente'] == 7), 'curso mais elevado que frequentou anteriormente'] = \"Educação de jovens e adultos ou supletivo de ensino médio ou do 2º grau\"\n",
    "#     novo_df1.loc[(novo_df1['curso mais elevado que frequentou anteriormente'] == 8), 'curso mais elevado que frequentou anteriormente'] = \"Superior de graduação\"\n",
    "#     novo_df1.loc[(novo_df1['curso mais elevado que frequentou anteriormente'] == 9), 'curso mais elevado que frequentou anteriormente'] = \"Mestrado ou doutorado\"\n",
    "#     novo_df1.loc[(novo_df1['curso mais elevado que frequentou anteriormente'] == 10), 'curso mais elevado que frequentou anteriormente'] = \"Alfabetização de jovens e adultos\"\n",
    "#     novo_df1.loc[(novo_df1['curso mais elevado que frequentou anteriormente'] == 11), 'curso mais elevado que frequentou anteriormente'] = \"Creche\"\n",
    "#     novo_df1.loc[(novo_df1['curso mais elevado que frequentou anteriormente'] == 12), 'curso mais elevado que frequentou anteriormente'] = \"Classe de alfabetização - CA \"\n",
    "#     novo_df1.loc[(novo_df1['curso mais elevado que frequentou anteriormente'] == 13), 'curso mais elevado que frequentou anteriormente'] = \"Maternal, jardim de infância etc.\"\n",
    "#     novo_df1.loc[(novo_df1['curso mais elevado que frequentou anteriormente'].isnull() == True), 'curso mais elevado que frequentou anteriormente'] = \"Não aplicável\"\n",
    "\n",
    "#     novo_df1.loc[(novo_df1['Concluiu, com aprovação, pelo menos a 1ª série deste curso que frequentou anteriormente'] == 1), 'Concluiu, com aprovação, pelo menos a 1ª série deste curso que frequentou anteriormente'] = \"Sim\"\n",
    "#     novo_df1.loc[(novo_df1['Concluiu, com aprovação, pelo menos a 1ª série deste curso que frequentou anteriormente'] == 3), 'Concluiu, com aprovação, pelo menos a 1ª série deste curso que frequentou anteriormente'] = \"Não\"\n",
    "#     novo_df1.loc[(novo_df1['Concluiu, com aprovação, pelo menos a 1ª série deste curso que frequentou anteriormente'].isnull() == True), 'Concluiu, com aprovação, pelo menos a 1ª série deste curso que frequentou anteriormente'] = \"Não aplicável\"\n",
    "\n",
    "#     novo_df1.loc[(novo_df1['Última série concluída com aprovação, neste curso que frequentou anteriormente'] == 0), \"Última série concluída com aprovação, neste curso que frequentou anteriormente\"] = 9\n",
    "\n",
    "#     novo_df1.loc[(novo_df1['Concluiu este curso que frequentou anteriormente'] == 1), 'Concluiu este curso que frequentou anteriormente'] = \"Sim\"\n",
    "#     novo_df1.loc[(novo_df1['Concluiu este curso que frequentou anteriormente'] == 3), 'Concluiu este curso que frequentou anteriormente'] = \"Não\"\n",
    "#     novo_df1.loc[(novo_df1['Concluiu este curso que frequentou anteriormente'].isnull() == True), 'Concluiu este curso que frequentou anteriormente'] = \"Não Aplicavel\"\n",
    "\n",
    "#     novo_df1.loc[(novo_df1['Nos últimos 12 meses, utilizou a Internet em algum local'] == 1), 'Nos últimos 12 meses, utilizou a Internet em algum local'] = \"Sim\"\n",
    "#     novo_df1.loc[(novo_df1['Nos últimos 12 meses, utilizou a Internet em algum local'] == 3), 'Nos últimos 12 meses, utilizou a Internet em algum local'] = \"Não\"\n",
    "#     novo_df1.loc[(novo_df1['Nos últimos 12 meses, utilizou a Internet em algum local'].isnull() == True), 'Nos últimos 12 meses, utilizou a Internet em algum local'] = \"Não Aplicavel\"\n",
    "\n",
    "#     novo_df1.loc[(novo_df1['Faixa de idade em que começou a trabalhar'] == 1), 'Faixa de idade em que começou a trabalhar'] = \"Ate 9 anos\"\n",
    "#     novo_df1.loc[(novo_df1['Faixa de idade em que começou a trabalhar'] == 2), 'Faixa de idade em que começou a trabalhar'] = \"10 a 14 anos\"\n",
    "#     novo_df1.loc[(novo_df1['Faixa de idade em que começou a trabalhar'] == 3), 'Faixa de idade em que começou a trabalhar'] = \"15 a 17 anos\"\n",
    "#     novo_df1.loc[(novo_df1['Faixa de idade em que começou a trabalhar'] == 4), 'Faixa de idade em que começou a trabalhar'] = \"18 a 19 anos\"\n",
    "#     novo_df1.loc[(novo_df1['Faixa de idade em que começou a trabalhar'] == 5), 'Faixa de idade em que começou a trabalhar'] = \"20 a 24 anos\"\n",
    "#     novo_df1.loc[(novo_df1['Faixa de idade em que começou a trabalhar'] == 6), 'Faixa de idade em que começou a trabalhar'] = \"25 a 29 anos\"\n",
    "#     novo_df1.loc[(novo_df1['Faixa de idade em que começou a trabalhar'] == 7), 'Faixa de idade em que começou a trabalhar'] = \"30 anos ou mais\"\n",
    "#     novo_df1.loc[(novo_df1['Faixa de idade em que começou a trabalhar'].isnull() == True), 'Fai.isnull() == Truexa de idade em que começou a trabalhar'] = \"Não Aplicavel\"\n",
    "\n",
    "#     novo_df1.loc[(novo_df1['Nível de ensino e grupos de séries do ensino fundamental que frequentavam'] == 1), 'Nível de ensino e grupos de séries do ensino fundamental que frequentavam'] = \"Maternal, jardim de infância etc.\"\n",
    "#     novo_df1.loc[(novo_df1['Nível de ensino e grupos de séries do ensino fundamental que frequentavam'] == 2), 'Nível de ensino e grupos de séries do ensino fundamental que frequentavam'] = \"Classe de alfabetização\"\n",
    "#     novo_df1.loc[(novo_df1['Nível de ensino e grupos de séries do ensino fundamental que frequentavam'] == 3), 'Nível de ensino e grupos de séries do ensino fundamental que frequentavam'] = \"Alfabetização de adultos\"\n",
    "#     novo_df1.loc[(novo_df1['Nível de ensino e grupos de séries do ensino fundamental que frequentavam'] == 4), 'Nível de ensino e grupos de séries do ensino fundamental que frequentavam'] = \"1ª série do ensino fundamental regular em 8 anos\"\n",
    "#     novo_df1.loc[(novo_df1['Nível de ensino e grupos de séries do ensino fundamental que frequentavam'] == 5), 'Nível de ensino e grupos de séries do ensino fundamental que frequentavam'] = \"2ª série do ensino fundamental regular em 8 anos\"\n",
    "#     novo_df1.loc[(novo_df1['Nível de ensino e grupos de séries do ensino fundamental que frequentavam'] == 6), 'Nível de ensino e grupos de séries do ensino fundamental que frequentavam'] = \"3ª série do ensino fundamental regular em 8 anos\"\n",
    "#     novo_df1.loc[(novo_df1['Nível de ensino e grupos de séries do ensino fundamental que frequentavam'] == 7), 'Nível de ensino e grupos de séries do ensino fundamental que frequentavam'] = \"4ª série do ensino fundamental regular em 8 anos\"\n",
    "#     novo_df1.loc[(novo_df1['Nível de ensino e grupos de séries do ensino fundamental que frequentavam'] == 8), 'Nível de ensino e grupos de séries do ensino fundamental que frequentavam'] = \"5ª série do ensino fundamental regular em 8 anos\"\n",
    "#     novo_df1.loc[(novo_df1['Nível de ensino e grupos de séries do ensino fundamental que frequentavam'] == 9), 'Nível de ensino e grupos de séries do ensino fundamental que frequentavam'] = \"6ª série do ensino fundamental regular em 8 anos\"\n",
    "#     novo_df1.loc[(novo_df1['Nível de ensino e grupos de séries do ensino fundamental que frequentavam'] == 10), 'Nível de ensino e grupos de séries do ensino fundamental que frequentavam'] = \"7ª série do ensino fundamental regular em 8 anos\"\n",
    "#     novo_df1.loc[(novo_df1['Nível de ensino e grupos de séries do ensino fundamental que frequentavam'] == 11), 'Nível de ensino e grupos de séries do ensino fundamental que frequentavam'] = \"8ª série do ensino fundamental regular em 8 anos\"\n",
    "#     novo_df1.loc[(novo_df1['Nível de ensino e grupos de séries do ensino fundamental que frequentavam'] == 12), 'Nível de ensino e grupos de séries do ensino fundamental que frequentavam'] = \"1ª série do ensino fundamental regular em 9 anos\"\n",
    "#     novo_df1.loc[(novo_df1['Nível de ensino e grupos de séries do ensino fundamental que frequentavam'] == 13), 'Nível de ensino e grupos de séries do ensino fundamental que frequentavam'] = \"2ª série do ensino fundamental regular em 9 anos\"\n",
    "#     novo_df1.loc[(novo_df1['Nível de ensino e grupos de séries do ensino fundamental que frequentavam'] == 14), 'Nível de ensino e grupos de séries do ensino fundamental que frequentavam'] = \"3ª série do ensino fundamental regular em 9 anos\"\n",
    "#     novo_df1.loc[(novo_df1['Nível de ensino e grupos de séries do ensino fundamental que frequentavam'] == 15), 'Nível de ensino e grupos de séries do ensino fundamental que frequentavam'] = \"4ª série do ensino fundamental regular em 9 anos\"\n",
    "#     novo_df1.loc[(novo_df1['Nível de ensino e grupos de séries do ensino fundamental que frequentavam'] == 16), 'Nível de ensino e grupos de séries do ensino fundamental que frequentavam'] = \"5ª série do ensino fundamental regular em 9 anos\"\n",
    "#     novo_df1.loc[(novo_df1['Nível de ensino e grupos de séries do ensino fundamental que frequentavam'] == 17), 'Nível de ensino e grupos de séries do ensino fundamental que frequentavam'] = \"6ª série do ensino fundamental regular em 9 anos\"\n",
    "#     novo_df1.loc[(novo_df1['Nível de ensino e grupos de séries do ensino fundamental que frequentavam'] == 18), 'Nível de ensino e grupos de séries do ensino fundamental que frequentavam'] = \"7ª série do ensino fundamental regular em 9 anos\"\n",
    "#     novo_df1.loc[(novo_df1['Nível de ensino e grupos de séries do ensino fundamental que frequentavam'] == 19), 'Nível de ensino e grupos de séries do ensino fundamental que frequentavam'] = \"8ª série do ensino fundamental regular em 9 anos\"\n",
    "#     novo_df1.loc[(novo_df1['Nível de ensino e grupos de séries do ensino fundamental que frequentavam'] == 20), 'Nível de ensino e grupos de séries do ensino fundamental que frequentavam'] = \"9ª série do ensino fundamental regular em 9 anos\"\n",
    "#     novo_df1.loc[(novo_df1['Nível de ensino e grupos de séries do ensino fundamental que frequentavam'] == 21), 'Nível de ensino e grupos de séries do ensino fundamental que frequentavam'] = \"Educação de jovens e adultos do ensino fundamental (seriado e não seriado)\"\n",
    "#     novo_df1.loc[(novo_df1['Nível de ensino e grupos de séries do ensino fundamental que frequentavam'] == 22), 'Nível de ensino e grupos de séries do ensino fundamental que frequentavam'] = \"Regular do ensino médio \"\n",
    "#     novo_df1.loc[(novo_df1['Nível de ensino e grupos de séries do ensino fundamental que frequentavam'] == 23), 'Nível de ensino e grupos de séries do ensino fundamental que frequentavam'] = \"Educação de jovens e adultos do ensino médio\"\n",
    "#     novo_df1.loc[(novo_df1['Nível de ensino e grupos de séries do ensino fundamental que frequentavam'] == 24), 'Nível de ensino e grupos de séries do ensino fundamental que frequentavam'] = \"Pré-vestibular\"\n",
    "#     novo_df1.loc[(novo_df1['Nível de ensino e grupos de séries do ensino fundamental que frequentavam'] == 25), 'Nível de ensino e grupos de séries do ensino fundamental que frequentavam'] = \"Superior, inclusive mestrado e doutorado\"\n",
    "#     novo_df1.loc[(novo_df1['Nível de ensino e grupos de séries do ensino fundamental que frequentavam'].isnull() == True), 'Nível de ensino e grupos de séries do ensino fundamental que frequentavam'] = \"Não Aplicavel\"\n",
    "\n",
    "#     novo_df1.loc[(novo_df1['Anos de estudo'] == 1), 'Anos de estudo'] = \"Sem instrução e menos de 1 ano\"\n",
    "#     novo_df1.loc[(novo_df1['Anos de estudo'] == 2), 'Anos de estudo'] = \"1ano\"\n",
    "#     novo_df1.loc[(novo_df1['Anos de estudo'] == 3), 'Anos de estudo'] = \"2anos\"\n",
    "#     novo_df1.loc[(novo_df1['Anos de estudo'] == 4), 'Anos de estudo'] = \"3anos\"\n",
    "#     novo_df1.loc[(novo_df1['Anos de estudo'] == 5), 'Anos de estudo'] = \"4anos\"\n",
    "#     novo_df1.loc[(novo_df1['Anos de estudo'] == 6), 'Anos de estudo'] = \"5anos\"\n",
    "#     novo_df1.loc[(novo_df1['Anos de estudo'] == 7), 'Anos de estudo'] = \"6anos\"\n",
    "#     novo_df1.loc[(novo_df1['Anos de estudo'] == 8), 'Anos de estudo'] = \"7anos\"\n",
    "#     novo_df1.loc[(novo_df1['Anos de estudo'] == 9), 'Anos de estudo'] = \"8anos\"\n",
    "#     novo_df1.loc[(novo_df1['Anos de estudo'] == 10), 'Anos de estudo'] = \"9anos\"\n",
    "#     novo_df1.loc[(novo_df1['Anos de estudo'] == 11), 'Anos de estudo'] = \"10 anos\"\n",
    "#     novo_df1.loc[(novo_df1['Anos de estudo'] == 12), 'Anos de estudo'] = \"11 anos\"\n",
    "#     novo_df1.loc[(novo_df1['Anos de estudo'] == 13), 'Anos de estudo'] = \"12 anos\"\n",
    "#     novo_df1.loc[(novo_df1['Anos de estudo'] == 14), 'Anos de estudo'] = \"13 anos\"\n",
    "#     novo_df1.loc[(novo_df1['Anos de estudo'] == 15), 'Anos de estudo'] = \"14 anos\"\n",
    "#     novo_df1.loc[(novo_df1['Anos de estudo'] == 16), 'Anos de estudo'] = \"15 anos\"\n",
    "#     novo_df1.loc[(novo_df1['Anos de estudo'] == 17), 'Anos de estudo'] = \"Não Determinado\"\n",
    "#     novo_df1.loc[(novo_df1['Anos de estudo'].isnull() == True), 'Anos de estudo'] = \"Não Aplicavel\"\n",
    "except:''"
   ]
  },
  {
   "cell_type": "code",
   "execution_count": 13,
   "metadata": {},
   "outputs": [
    {
     "ename": "ValueError",
     "evalue": "Length mismatch: Expected axis has 16 elements, new values have 17 elements",
     "output_type": "error",
     "traceback": [
      "\u001b[1;31m---------------------------------------------------------------------------\u001b[0m",
      "\u001b[1;31mValueError\u001b[0m                                Traceback (most recent call last)",
      "\u001b[1;32m<ipython-input-13-954abdd4ea9b>\u001b[0m in \u001b[0;36m<module>\u001b[1;34m()\u001b[0m\n\u001b[1;32m----> 1\u001b[1;33m \u001b[0mnovo_df1\u001b[0m\u001b[1;33m.\u001b[0m\u001b[0mcolumns\u001b[0m \u001b[1;33m=\u001b[0m \u001b[0mnew_names1\u001b[0m\u001b[1;33m\u001b[0m\u001b[0m\n\u001b[0m\u001b[0;32m      2\u001b[0m \u001b[0mnovo_df1\u001b[0m\u001b[1;33m.\u001b[0m\u001b[0mhead\u001b[0m\u001b[1;33m(\u001b[0m\u001b[1;33m)\u001b[0m\u001b[1;33m\u001b[0m\u001b[0m\n",
      "\u001b[1;32m~\\Anaconda3\\lib\\site-packages\\pandas\\core\\generic.py\u001b[0m in \u001b[0;36m__setattr__\u001b[1;34m(self, name, value)\u001b[0m\n\u001b[0;32m   3625\u001b[0m         \u001b[1;32mtry\u001b[0m\u001b[1;33m:\u001b[0m\u001b[1;33m\u001b[0m\u001b[0m\n\u001b[0;32m   3626\u001b[0m             \u001b[0mobject\u001b[0m\u001b[1;33m.\u001b[0m\u001b[0m__getattribute__\u001b[0m\u001b[1;33m(\u001b[0m\u001b[0mself\u001b[0m\u001b[1;33m,\u001b[0m \u001b[0mname\u001b[0m\u001b[1;33m)\u001b[0m\u001b[1;33m\u001b[0m\u001b[0m\n\u001b[1;32m-> 3627\u001b[1;33m             \u001b[1;32mreturn\u001b[0m \u001b[0mobject\u001b[0m\u001b[1;33m.\u001b[0m\u001b[0m__setattr__\u001b[0m\u001b[1;33m(\u001b[0m\u001b[0mself\u001b[0m\u001b[1;33m,\u001b[0m \u001b[0mname\u001b[0m\u001b[1;33m,\u001b[0m \u001b[0mvalue\u001b[0m\u001b[1;33m)\u001b[0m\u001b[1;33m\u001b[0m\u001b[0m\n\u001b[0m\u001b[0;32m   3628\u001b[0m         \u001b[1;32mexcept\u001b[0m \u001b[0mAttributeError\u001b[0m\u001b[1;33m:\u001b[0m\u001b[1;33m\u001b[0m\u001b[0m\n\u001b[0;32m   3629\u001b[0m             \u001b[1;32mpass\u001b[0m\u001b[1;33m\u001b[0m\u001b[0m\n",
      "\u001b[1;32mpandas/_libs/properties.pyx\u001b[0m in \u001b[0;36mpandas._libs.properties.AxisProperty.__set__\u001b[1;34m()\u001b[0m\n",
      "\u001b[1;32m~\\Anaconda3\\lib\\site-packages\\pandas\\core\\generic.py\u001b[0m in \u001b[0;36m_set_axis\u001b[1;34m(self, axis, labels)\u001b[0m\n\u001b[0;32m    557\u001b[0m \u001b[1;33m\u001b[0m\u001b[0m\n\u001b[0;32m    558\u001b[0m     \u001b[1;32mdef\u001b[0m \u001b[0m_set_axis\u001b[0m\u001b[1;33m(\u001b[0m\u001b[0mself\u001b[0m\u001b[1;33m,\u001b[0m \u001b[0maxis\u001b[0m\u001b[1;33m,\u001b[0m \u001b[0mlabels\u001b[0m\u001b[1;33m)\u001b[0m\u001b[1;33m:\u001b[0m\u001b[1;33m\u001b[0m\u001b[0m\n\u001b[1;32m--> 559\u001b[1;33m         \u001b[0mself\u001b[0m\u001b[1;33m.\u001b[0m\u001b[0m_data\u001b[0m\u001b[1;33m.\u001b[0m\u001b[0mset_axis\u001b[0m\u001b[1;33m(\u001b[0m\u001b[0maxis\u001b[0m\u001b[1;33m,\u001b[0m \u001b[0mlabels\u001b[0m\u001b[1;33m)\u001b[0m\u001b[1;33m\u001b[0m\u001b[0m\n\u001b[0m\u001b[0;32m    560\u001b[0m         \u001b[0mself\u001b[0m\u001b[1;33m.\u001b[0m\u001b[0m_clear_item_cache\u001b[0m\u001b[1;33m(\u001b[0m\u001b[1;33m)\u001b[0m\u001b[1;33m\u001b[0m\u001b[0m\n\u001b[0;32m    561\u001b[0m \u001b[1;33m\u001b[0m\u001b[0m\n",
      "\u001b[1;32m~\\Anaconda3\\lib\\site-packages\\pandas\\core\\internals.py\u001b[0m in \u001b[0;36mset_axis\u001b[1;34m(self, axis, new_labels)\u001b[0m\n\u001b[0;32m   3072\u001b[0m             raise ValueError('Length mismatch: Expected axis has %d elements, '\n\u001b[0;32m   3073\u001b[0m                              \u001b[1;34m'new values have %d elements'\u001b[0m \u001b[1;33m%\u001b[0m\u001b[1;33m\u001b[0m\u001b[0m\n\u001b[1;32m-> 3074\u001b[1;33m                              (old_len, new_len))\n\u001b[0m\u001b[0;32m   3075\u001b[0m \u001b[1;33m\u001b[0m\u001b[0m\n\u001b[0;32m   3076\u001b[0m         \u001b[0mself\u001b[0m\u001b[1;33m.\u001b[0m\u001b[0maxes\u001b[0m\u001b[1;33m[\u001b[0m\u001b[0maxis\u001b[0m\u001b[1;33m]\u001b[0m \u001b[1;33m=\u001b[0m \u001b[0mnew_labels\u001b[0m\u001b[1;33m\u001b[0m\u001b[0m\n",
      "\u001b[1;31mValueError\u001b[0m: Length mismatch: Expected axis has 16 elements, new values have 17 elements"
     ]
    }
   ],
   "source": [
    "novo_df1.columns = new_names1\n",
    "novo_df1.head()"
   ]
  },
  {
   "cell_type": "markdown",
   "metadata": {},
   "source": [
    "___\n",
    "## Análise e Resultados"
   ]
  },
  {
   "cell_type": "code",
   "execution_count": null,
   "metadata": {},
   "outputs": [],
   "source": []
  },
  {
   "cell_type": "code",
   "execution_count": null,
   "metadata": {
    "collapsed": true
   },
   "outputs": [],
   "source": []
  },
  {
   "cell_type": "markdown",
   "metadata": {},
   "source": [
    "___\n",
    "## Conclusão "
   ]
  },
  {
   "cell_type": "markdown",
   "metadata": {
    "collapsed": true
   },
   "source": [
    "Descreva aqui suas conclusões!"
   ]
  },
  {
   "cell_type": "code",
   "execution_count": null,
   "metadata": {
    "collapsed": true
   },
   "outputs": [],
   "source": []
  }
 ],
 "metadata": {
  "anaconda-cloud": {},
  "kernelspec": {
   "display_name": "Python 3",
   "language": "python",
   "name": "python3"
  },
  "language_info": {
   "codemirror_mode": {
    "name": "ipython",
    "version": 3
   },
   "file_extension": ".py",
   "mimetype": "text/x-python",
   "name": "python",
   "nbconvert_exporter": "python",
   "pygments_lexer": "ipython3",
   "version": "3.6.4"
  }
 },
 "nbformat": 4,
 "nbformat_minor": 1
}
