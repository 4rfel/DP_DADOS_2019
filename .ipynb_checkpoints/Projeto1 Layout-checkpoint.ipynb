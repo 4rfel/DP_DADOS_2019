{
 "cells": [
  {
   "cell_type": "markdown",
   "metadata": {},
   "source": [
    "___\n",
    "# Ciência dos Dados - PROJETO 1"
   ]
  },
  {
   "cell_type": "markdown",
   "metadata": {},
   "source": [
    "### Rafael dos Santos e José Bechara\n",
    "___"
   ]
  },
  {
   "cell_type": "markdown",
   "metadata": {},
   "source": [
    "## TÍTULO DO SEU PROJETO"
   ]
  },
  {
   "cell_type": "markdown",
   "metadata": {},
   "source": [
    "___\n",
    "## Introdução\n",
    "\n",
    "Descreva aqui o que pretende analisar!\n",
    "\n",
    "Capriche no português!! \n",
    "Se quiser pode utilizar pesquisas semelhantes publicadas em sites confiáveis!!\n"
   ]
  },
  {
   "cell_type": "markdown",
   "metadata": {},
   "source": [
    "___\n",
    "## Filtros da base de dados"
   ]
  },
  {
   "cell_type": "code",
   "execution_count": 2,
   "metadata": {},
   "outputs": [],
   "source": [
    "%matplotlib inline\n",
    "import pandas as pd\n",
    "import matplotlib.pyplot as plt\n",
    "import numpy as np\n",
    "import os"
   ]
  },
  {
   "cell_type": "code",
   "execution_count": 3,
   "metadata": {},
   "outputs": [
    {
     "name": "stdout",
     "output_type": "stream",
     "text": [
      "Esperamos trabalhar no diretório\n",
      "C:\\Users\\rafae\\Desktop\\DP\\Dados\\Projeto1\n"
     ]
    }
   ],
   "source": [
    "print('Esperamos trabalhar no diretório')\n",
    "print(os.getcwd())"
   ]
  },
  {
   "cell_type": "code",
   "execution_count": 4,
   "metadata": {},
   "outputs": [],
   "source": [
    "#Se usar o arquivo descompactado\n",
    "PES2015 = pd.read_csv('PES2015.csv',sep=',')\n",
    "\n",
    "#Se usar o arquivo compactado como está no dropbox púbico\n",
    "#pd.read_csv('PES2015csv.zip', compression='zip', header=0, sep=',', quotechar='\"')"
   ]
  },
  {
   "cell_type": "code",
   "execution_count": 34,
   "metadata": {},
   "outputs": [],
   "source": [
    "old_columns = ['UF','V0302','V8005',\"V0601\",'V0602','V6002','V6020',\"V0605\",'V6007','V0609','V0610','V0611','V061111','V061112','V061113','V061114','V9891','V4801','V4802','V4803']"
   ]
  },
  {
   "cell_type": "code",
   "execution_count": 35,
   "metadata": {},
   "outputs": [],
   "source": [
    "new_names = ['UF','Sexo','Idade','sabe ler e escrever','frequenta escola ou creche','escola publica ou privada', 'Area da rede publica de ensino', 'serie que frequenta','curso mais elevado que frequentou anteriormente','Concluiu, com aprovação, pelo menos a 1ª série deste curso que frequentou anteriormente','Última série concluída com aprovação, neste curso que frequentou anteriormente','Concluiu este curso que frequentou anteriormente','Nos últimos 12 meses, utilizou a Internet em algum local','O acesso à Internet foi feito através de microcomputador','O acesso à Internet foi feito através de telefone celular','O acesso à Internet foi feito através de um tablet','Faixa de idade em que começou a trabalhar','Nível de ensino, duração do ensino fundamental e série que frequentavam','Nível de ensino e grupos de séries do ensino fundamental que frequentavam',\"Anos de estudo\"]"
   ]
  },
  {
   "cell_type": "code",
   "execution_count": 36,
   "metadata": {},
   "outputs": [
    {
     "data": {
      "text/plain": [
       "20"
      ]
     },
     "execution_count": 36,
     "metadata": {},
     "output_type": "execute_result"
    }
   ],
   "source": [
    "len(new_names)"
   ]
  },
  {
   "cell_type": "code",
   "execution_count": 37,
   "metadata": {},
   "outputs": [
    {
     "data": {
      "text/plain": [
       "20"
      ]
     },
     "execution_count": 37,
     "metadata": {},
     "output_type": "execute_result"
    }
   ],
   "source": [
    "len(old_columns)"
   ]
  },
  {
   "cell_type": "code",
   "execution_count": 38,
   "metadata": {},
   "outputs": [],
   "source": [
    "novo_df = PES2015[old_columns]"
   ]
  },
  {
   "cell_type": "code",
   "execution_count": 39,
   "metadata": {},
   "outputs": [
    {
     "data": {
      "text/html": [
       "<div>\n",
       "<style scoped>\n",
       "    .dataframe tbody tr th:only-of-type {\n",
       "        vertical-align: middle;\n",
       "    }\n",
       "\n",
       "    .dataframe tbody tr th {\n",
       "        vertical-align: top;\n",
       "    }\n",
       "\n",
       "    .dataframe thead th {\n",
       "        text-align: right;\n",
       "    }\n",
       "</style>\n",
       "<table border=\"1\" class=\"dataframe\">\n",
       "  <thead>\n",
       "    <tr style=\"text-align: right;\">\n",
       "      <th></th>\n",
       "      <th>UF</th>\n",
       "      <th>Sexo</th>\n",
       "      <th>Idade</th>\n",
       "      <th>sabe ler e escrever</th>\n",
       "      <th>frequenta escola ou creche</th>\n",
       "      <th>escola publica ou privada</th>\n",
       "      <th>Area da rede publica de ensino</th>\n",
       "      <th>serie que frequenta</th>\n",
       "      <th>curso mais elevado que frequentou anteriormente</th>\n",
       "      <th>Concluiu, com aprovação, pelo menos a 1ª série deste curso que frequentou anteriormente</th>\n",
       "      <th>Última série concluída com aprovação, neste curso que frequentou anteriormente</th>\n",
       "      <th>Concluiu este curso que frequentou anteriormente</th>\n",
       "      <th>Nos últimos 12 meses, utilizou a Internet em algum local</th>\n",
       "      <th>O acesso à Internet foi feito através de microcomputador</th>\n",
       "      <th>O acesso à Internet foi feito através de telefone celular</th>\n",
       "      <th>O acesso à Internet foi feito através de um tablet</th>\n",
       "      <th>Faixa de idade em que começou a trabalhar</th>\n",
       "      <th>Nível de ensino, duração do ensino fundamental e série que frequentavam</th>\n",
       "      <th>Nível de ensino e grupos de séries do ensino fundamental que frequentavam</th>\n",
       "      <th>Anos de estudo</th>\n",
       "    </tr>\n",
       "  </thead>\n",
       "  <tbody>\n",
       "    <tr>\n",
       "      <th>0</th>\n",
       "      <td>11</td>\n",
       "      <td>2</td>\n",
       "      <td>23</td>\n",
       "      <td>1</td>\n",
       "      <td>4</td>\n",
       "      <td>NaN</td>\n",
       "      <td>NaN</td>\n",
       "      <td>NaN</td>\n",
       "      <td>5.0</td>\n",
       "      <td>1.0</td>\n",
       "      <td>3.0</td>\n",
       "      <td>1.0</td>\n",
       "      <td>NaN</td>\n",
       "      <td>2.0</td>\n",
       "      <td>1.0</td>\n",
       "      <td>2.0</td>\n",
       "      <td>2.0</td>\n",
       "      <td>NaN</td>\n",
       "      <td>NaN</td>\n",
       "      <td>12</td>\n",
       "    </tr>\n",
       "    <tr>\n",
       "      <th>1</th>\n",
       "      <td>11</td>\n",
       "      <td>4</td>\n",
       "      <td>23</td>\n",
       "      <td>1</td>\n",
       "      <td>4</td>\n",
       "      <td>NaN</td>\n",
       "      <td>NaN</td>\n",
       "      <td>NaN</td>\n",
       "      <td>5.0</td>\n",
       "      <td>1.0</td>\n",
       "      <td>3.0</td>\n",
       "      <td>1.0</td>\n",
       "      <td>NaN</td>\n",
       "      <td>1.0</td>\n",
       "      <td>1.0</td>\n",
       "      <td>2.0</td>\n",
       "      <td>5.0</td>\n",
       "      <td>NaN</td>\n",
       "      <td>NaN</td>\n",
       "      <td>12</td>\n",
       "    </tr>\n",
       "    <tr>\n",
       "      <th>2</th>\n",
       "      <td>11</td>\n",
       "      <td>4</td>\n",
       "      <td>35</td>\n",
       "      <td>1</td>\n",
       "      <td>2</td>\n",
       "      <td>4.0</td>\n",
       "      <td>NaN</td>\n",
       "      <td>4.0</td>\n",
       "      <td>NaN</td>\n",
       "      <td>NaN</td>\n",
       "      <td>NaN</td>\n",
       "      <td>NaN</td>\n",
       "      <td>NaN</td>\n",
       "      <td>1.0</td>\n",
       "      <td>1.0</td>\n",
       "      <td>2.0</td>\n",
       "      <td>2.0</td>\n",
       "      <td>25.0</td>\n",
       "      <td>11.0</td>\n",
       "      <td>15</td>\n",
       "    </tr>\n",
       "    <tr>\n",
       "      <th>3</th>\n",
       "      <td>11</td>\n",
       "      <td>2</td>\n",
       "      <td>34</td>\n",
       "      <td>1</td>\n",
       "      <td>4</td>\n",
       "      <td>NaN</td>\n",
       "      <td>NaN</td>\n",
       "      <td>NaN</td>\n",
       "      <td>8.0</td>\n",
       "      <td>1.0</td>\n",
       "      <td>3.0</td>\n",
       "      <td>1.0</td>\n",
       "      <td>NaN</td>\n",
       "      <td>1.0</td>\n",
       "      <td>1.0</td>\n",
       "      <td>2.0</td>\n",
       "      <td>1.0</td>\n",
       "      <td>NaN</td>\n",
       "      <td>NaN</td>\n",
       "      <td>15</td>\n",
       "    </tr>\n",
       "    <tr>\n",
       "      <th>4</th>\n",
       "      <td>11</td>\n",
       "      <td>4</td>\n",
       "      <td>11</td>\n",
       "      <td>1</td>\n",
       "      <td>2</td>\n",
       "      <td>4.0</td>\n",
       "      <td>NaN</td>\n",
       "      <td>5.0</td>\n",
       "      <td>NaN</td>\n",
       "      <td>NaN</td>\n",
       "      <td>NaN</td>\n",
       "      <td>NaN</td>\n",
       "      <td>NaN</td>\n",
       "      <td>1.0</td>\n",
       "      <td>2.0</td>\n",
       "      <td>2.0</td>\n",
       "      <td>NaN</td>\n",
       "      <td>16.0</td>\n",
       "      <td>7.0</td>\n",
       "      <td>4</td>\n",
       "    </tr>\n",
       "  </tbody>\n",
       "</table>\n",
       "</div>"
      ],
      "text/plain": [
       "   UF  Sexo  Idade  sabe ler e escrever  frequenta escola ou creche  \\\n",
       "0  11     2     23                    1                           4   \n",
       "1  11     4     23                    1                           4   \n",
       "2  11     4     35                    1                           2   \n",
       "3  11     2     34                    1                           4   \n",
       "4  11     4     11                    1                           2   \n",
       "\n",
       "   escola publica ou privada  Area da rede publica de ensino  \\\n",
       "0                        NaN                             NaN   \n",
       "1                        NaN                             NaN   \n",
       "2                        4.0                             NaN   \n",
       "3                        NaN                             NaN   \n",
       "4                        4.0                             NaN   \n",
       "\n",
       "   serie que frequenta  curso mais elevado que frequentou anteriormente  \\\n",
       "0                  NaN                                              5.0   \n",
       "1                  NaN                                              5.0   \n",
       "2                  4.0                                              NaN   \n",
       "3                  NaN                                              8.0   \n",
       "4                  5.0                                              NaN   \n",
       "\n",
       "   Concluiu, com aprovação, pelo menos a 1ª série deste curso que frequentou anteriormente  \\\n",
       "0                                                1.0                                         \n",
       "1                                                1.0                                         \n",
       "2                                                NaN                                         \n",
       "3                                                1.0                                         \n",
       "4                                                NaN                                         \n",
       "\n",
       "   Última série concluída com aprovação, neste curso que frequentou anteriormente  \\\n",
       "0                                                3.0                                \n",
       "1                                                3.0                                \n",
       "2                                                NaN                                \n",
       "3                                                3.0                                \n",
       "4                                                NaN                                \n",
       "\n",
       "   Concluiu este curso que frequentou anteriormente  \\\n",
       "0                                               1.0   \n",
       "1                                               1.0   \n",
       "2                                               NaN   \n",
       "3                                               1.0   \n",
       "4                                               NaN   \n",
       "\n",
       "   Nos últimos 12 meses, utilizou a Internet em algum local  \\\n",
       "0                                                NaN          \n",
       "1                                                NaN          \n",
       "2                                                NaN          \n",
       "3                                                NaN          \n",
       "4                                                NaN          \n",
       "\n",
       "   O acesso à Internet foi feito através de microcomputador  \\\n",
       "0                                                2.0          \n",
       "1                                                1.0          \n",
       "2                                                1.0          \n",
       "3                                                1.0          \n",
       "4                                                1.0          \n",
       "\n",
       "   O acesso à Internet foi feito através de telefone celular  \\\n",
       "0                                                1.0           \n",
       "1                                                1.0           \n",
       "2                                                1.0           \n",
       "3                                                1.0           \n",
       "4                                                2.0           \n",
       "\n",
       "   O acesso à Internet foi feito através de um tablet  \\\n",
       "0                                                2.0    \n",
       "1                                                2.0    \n",
       "2                                                2.0    \n",
       "3                                                2.0    \n",
       "4                                                2.0    \n",
       "\n",
       "   Faixa de idade em que começou a trabalhar  \\\n",
       "0                                        2.0   \n",
       "1                                        5.0   \n",
       "2                                        2.0   \n",
       "3                                        1.0   \n",
       "4                                        NaN   \n",
       "\n",
       "   Nível de ensino, duração do ensino fundamental e série que frequentavam  \\\n",
       "0                                                NaN                         \n",
       "1                                                NaN                         \n",
       "2                                               25.0                         \n",
       "3                                                NaN                         \n",
       "4                                               16.0                         \n",
       "\n",
       "   Nível de ensino e grupos de séries do ensino fundamental que frequentavam  \\\n",
       "0                                                NaN                           \n",
       "1                                                NaN                           \n",
       "2                                               11.0                           \n",
       "3                                                NaN                           \n",
       "4                                                7.0                           \n",
       "\n",
       "   Anos de estudo  \n",
       "0              12  \n",
       "1              12  \n",
       "2              15  \n",
       "3              15  \n",
       "4               4  "
      ]
     },
     "execution_count": 39,
     "metadata": {},
     "output_type": "execute_result"
    }
   ],
   "source": [
    "novo_df.columns = new_names\n",
    "novo_df = novo_df['UF'][novo_df['UF']==1]\n",
    "novo_df.head()"
   ]
  },
  {
   "cell_type": "code",
   "execution_count": null,
   "metadata": {},
   "outputs": [],
   "source": [
    "def change_UF(code):\n",
    "    "
   ]
  },
  {
   "cell_type": "markdown",
   "metadata": {},
   "source": [
    "___\n",
    "## Análise e Resultados"
   ]
  },
  {
   "cell_type": "code",
   "execution_count": null,
   "metadata": {
    "collapsed": true
   },
   "outputs": [],
   "source": []
  },
  {
   "cell_type": "code",
   "execution_count": null,
   "metadata": {
    "collapsed": true
   },
   "outputs": [],
   "source": []
  },
  {
   "cell_type": "markdown",
   "metadata": {},
   "source": [
    "___\n",
    "## Conclusão "
   ]
  },
  {
   "cell_type": "markdown",
   "metadata": {
    "collapsed": true
   },
   "source": [
    "Descreva aqui suas conclusões!"
   ]
  },
  {
   "cell_type": "code",
   "execution_count": null,
   "metadata": {
    "collapsed": true
   },
   "outputs": [],
   "source": []
  }
 ],
 "metadata": {
  "anaconda-cloud": {},
  "kernelspec": {
   "display_name": "Python 3",
   "language": "python",
   "name": "python3"
  },
  "language_info": {
   "codemirror_mode": {
    "name": "ipython",
    "version": 3
   },
   "file_extension": ".py",
   "mimetype": "text/x-python",
   "name": "python",
   "nbconvert_exporter": "python",
   "pygments_lexer": "ipython3",
   "version": "3.6.4"
  }
 },
 "nbformat": 4,
 "nbformat_minor": 1
}
